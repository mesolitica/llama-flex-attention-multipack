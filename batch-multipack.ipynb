{
 "cells": [
  {
   "cell_type": "code",
   "execution_count": 1,
   "id": "ec71c4e4",
   "metadata": {},
   "outputs": [],
   "source": [
    "import os\n",
    "\n",
    "os.environ['CUDA_VISIBLE_DEVICES'] = '1'"
   ]
  },
  {
   "cell_type": "code",
   "execution_count": 2,
   "id": "c59fd59a",
   "metadata": {},
   "outputs": [
    {
     "data": {
      "text/plain": [
       "'2.6.0.dev20241212+cu124'"
      ]
     },
     "execution_count": 2,
     "metadata": {},
     "output_type": "execute_result"
    }
   ],
   "source": [
    "import torch\n",
    "torch.__version__"
   ]
  },
  {
   "cell_type": "code",
   "execution_count": 3,
   "id": "0f97dd18",
   "metadata": {},
   "outputs": [],
   "source": [
    "from attn_gym import visualize_attention_scores\n",
    "from torch.nn.attention.flex_attention import flex_attention, create_block_mask\n",
    "from torch.nn.attention.flex_attention import _mask_mod_signature\n",
    "from torch.nn.attention.flex_attention import (\n",
    "    _score_mod_signature,\n",
    "    _mask_mod_signature,\n",
    "    _vmap_for_bhqkv,\n",
    "    _ModificationType,\n",
    ")\n",
    "from torch.nn.utils.rnn import pad_sequence\n",
    "from typing import List, Union\n",
    "from torch import Tensor\n",
    "import torch\n",
    "import random\n",
    "\n",
    "def causal_mask(b, h, q_idx, kv_idx):\n",
    "    return q_idx >= kv_idx\n",
    "\n",
    "def _offsets_to_doc_ids_tensor(offsets):\n",
    "    device = offsets.device\n",
    "    offsets = offsets[offsets != -1]\n",
    "    counts = offsets[1:] - offsets[:-1]\n",
    "    return torch.repeat_interleave(\n",
    "        torch.arange(len(counts), device=device, dtype=torch.int32), counts\n",
    "    )\n",
    "\n",
    "\n",
    "def length_to_offsets(lengths: List[int], device: Union[str, torch.device]) -> Tensor:\n",
    "    \"\"\"Converts a list of lengths to a list of offsets.\n",
    "\n",
    "    Args:\n",
    "        lengths: A list of lengths.\n",
    "\n",
    "    \"\"\"\n",
    "    offsets = [0]\n",
    "    offsets.extend(lengths)\n",
    "    offsets = torch.tensor(offsets, device=device, dtype=torch.int32)\n",
    "    offsets = torch.cumsum(offsets, dim=-1)\n",
    "    return offsets\n",
    "\n",
    "def generate_doc_mask_mod(offsets):\n",
    "    \n",
    "    offsets = pad_sequence(offsets, batch_first = True, padding_value = -1)\n",
    "    docs = [_offsets_to_doc_ids_tensor(offsets[i]) for i in range(offsets.shape[0])]\n",
    "    docs = torch.stack(docs, 0)\n",
    "    \n",
    "    def document_causal_mask(b, h, q_idx, kv_idx):\n",
    "        causal_mask = q_idx >= kv_idx\n",
    "        document_mask = docs[b, q_idx] == docs[b, kv_idx]\n",
    "        return causal_mask & document_mask\n",
    "    \n",
    "    return document_causal_mask"
   ]
  },
  {
   "cell_type": "code",
   "execution_count": 4,
   "id": "e617ad7d",
   "metadata": {},
   "outputs": [],
   "source": [
    "flex_attention = torch.compile(flex_attention, dynamic = False)\n",
    "create_block_mask = torch.compile(create_block_mask, dynamic = False)"
   ]
  },
  {
   "cell_type": "code",
   "execution_count": 5,
   "id": "6acf957b",
   "metadata": {},
   "outputs": [],
   "source": [
    "device = 'cuda'"
   ]
  },
  {
   "cell_type": "code",
   "execution_count": 6,
   "id": "5ca559d3",
   "metadata": {},
   "outputs": [],
   "source": [
    "def generate_random_lengths(total_length, num_documents):\n",
    "    # Initialize all lengths to 1 to ensure each document has at least one token\n",
    "    lengths = [1] * num_documents\n",
    "    remaining_length = total_length - num_documents\n",
    "\n",
    "    # Randomly distribute the remaining length\n",
    "    for _ in range(remaining_length):\n",
    "        index = random.randint(0, num_documents - 1)\n",
    "        lengths[index] += 1\n",
    "\n",
    "    return lengths\n",
    "\n",
    "max_seq_len, doc_count = 21, 4\n",
    "B, H, SEQ_LEN, HEAD_DIM = 2, 1, max_seq_len, 128\n",
    "\n",
    "offsets = []\n",
    "for i in range(doc_count, doc_count + B, 1):\n",
    "    lengths = generate_random_lengths(max_seq_len, i)\n",
    "\n",
    "    offsets.append(length_to_offsets(lengths, device))\n",
    "\n",
    "def make_tensor():\n",
    "    return torch.randn(B, H, SEQ_LEN, HEAD_DIM, device=device)\n",
    "\n",
    "q, k, v = make_tensor(), make_tensor(), make_tensor()"
   ]
  },
  {
   "cell_type": "code",
   "execution_count": 7,
   "id": "9ca62e76",
   "metadata": {},
   "outputs": [],
   "source": [
    "from functools import lru_cache"
   ]
  },
  {
   "cell_type": "code",
   "execution_count": 8,
   "id": "b8a007be",
   "metadata": {},
   "outputs": [],
   "source": [
    "def forward(q, k, v, offsets):\n",
    "    document_causal_mask = generate_doc_mask_mod(offsets)\n",
    "    block_mask = create_block_mask(document_causal_mask, None, None, SEQ_LEN, SEQ_LEN, device, _compile = True)\n",
    "    flex = flex_attention(q, k, v, block_mask=block_mask)\n",
    "    return flex"
   ]
  },
  {
   "cell_type": "code",
   "execution_count": 9,
   "id": "fa190bb6",
   "metadata": {},
   "outputs": [
    {
     "name": "stdout",
     "output_type": "stream",
     "text": [
      "CPU times: user 1.12 s, sys: 107 ms, total: 1.23 s\n",
      "Wall time: 1.29 s\n"
     ]
    }
   ],
   "source": [
    "%%time\n",
    "\n",
    "flex = forward(q, k, v, offsets)"
   ]
  },
  {
   "cell_type": "code",
   "execution_count": 10,
   "id": "ed36f233",
   "metadata": {},
   "outputs": [
    {
     "data": {
      "text/plain": [
       "[tensor([ 0,  9, 12, 16, 21], device='cuda:0'),\n",
       " tensor([ 0,  3,  6,  7, 10, 11, 12, 14, 15, 16, 19, 21], device='cuda:0')]"
      ]
     },
     "execution_count": 10,
     "metadata": {},
     "output_type": "execute_result"
    }
   ],
   "source": [
    "offsets = []\n",
    "extra = 7\n",
    "for i in range(doc_count, doc_count + B + extra, extra):\n",
    "    lengths = generate_random_lengths(max_seq_len, i)\n",
    "\n",
    "    offsets.append(length_to_offsets(lengths, device))\n",
    "offsets"
   ]
  },
  {
   "cell_type": "code",
   "execution_count": 11,
   "id": "368ca42c",
   "metadata": {},
   "outputs": [
    {
     "name": "stdout",
     "output_type": "stream",
     "text": [
      "CPU times: user 920 µs, sys: 0 ns, total: 920 µs\n",
      "Wall time: 848 µs\n"
     ]
    }
   ],
   "source": [
    "%%time\n",
    "\n",
    "flex = forward(q, k, v, offsets)"
   ]
  },
  {
   "cell_type": "code",
   "execution_count": 12,
   "id": "8a238235",
   "metadata": {},
   "outputs": [],
   "source": [
    "def block_diagonal_concat_inverted(*masks, dtype=torch.bfloat16):\n",
    "    total_size = sum(mask.size(0) for mask in masks)\n",
    "    combined_mask = torch.zeros(total_size, total_size, dtype=dtype)\n",
    "\n",
    "    current_pos = 0\n",
    "\n",
    "    for mask in masks:\n",
    "        size = mask.size(0)\n",
    "        combined_mask[current_pos:current_pos + size, current_pos:current_pos + size] = mask\n",
    "        current_pos += size\n",
    "\n",
    "    min_value = torch.finfo(dtype).min if dtype.is_floating_point else torch.iinfo(dtype).min\n",
    "    inverted_mask = torch.where(combined_mask == 1, torch.tensor(0, dtype=dtype), min_value)\n",
    "    return inverted_mask.unsqueeze(0)"
   ]
  },
  {
   "cell_type": "code",
   "execution_count": 13,
   "id": "e53898af",
   "metadata": {},
   "outputs": [
    {
     "name": "stdout",
     "output_type": "stream",
     "text": [
      "CPU times: user 7.72 ms, sys: 0 ns, total: 7.72 ms\n",
      "Wall time: 2.42 ms\n"
     ]
    }
   ],
   "source": [
    "%%time\n",
    "\n",
    "masks = []\n",
    "for f in offsets:\n",
    "    masks_ = []\n",
    "    masking = torch.diff(f)\n",
    "    for m in masking:\n",
    "        masks_.append(torch.tril(torch.ones(m, m)))\n",
    "    \n",
    "    masks.append(block_diagonal_concat_inverted(*masks_, dtype = q.dtype))\n",
    "    \n",
    "masks = torch.stack(masks, 0).to('cuda')\n",
    "sdpa = torch.nn.functional.scaled_dot_product_attention(q, k, v, attn_mask = masks)"
   ]
  },
  {
   "cell_type": "code",
   "execution_count": 14,
   "id": "cc605823",
   "metadata": {},
   "outputs": [
    {
     "data": {
      "text/plain": [
       "tensor([[[ 86,   6,  49,  49, 124, 124,  43,  49,  49,   4, 114,  34,   3,   3,\n",
       "           67,  67,  14,  16,  96, 117,  16]],\n",
       "\n",
       "        [[ 28,  73, 101, 100,  11,  75,   5,  67,  79,  74, 125, 114, 113,  34,\n",
       "           10,  43,  64,  89,  93, 119,  40]]], device='cuda:0')"
      ]
     },
     "execution_count": 14,
     "metadata": {},
     "output_type": "execute_result"
    }
   ],
   "source": [
    "sdpa.argmax(-1)"
   ]
  },
  {
   "cell_type": "code",
   "execution_count": 15,
   "id": "6c65a3e0",
   "metadata": {},
   "outputs": [
    {
     "data": {
      "text/plain": [
       "tensor([[[ 86,   6,  49,  49, 124, 124,  43,  49,  49,   4, 114,  34,   3,   3,\n",
       "           67,  67,  14,  16,  96, 117,  16]],\n",
       "\n",
       "        [[ 28,  73, 101, 100,  11,  75,   5,  67,  79,  74, 125, 114, 113,  34,\n",
       "           10,  43,  64,  89,  93, 119,  40]]], device='cuda:0')"
      ]
     },
     "execution_count": 15,
     "metadata": {},
     "output_type": "execute_result"
    }
   ],
   "source": [
    "flex.argmax(-1)"
   ]
  },
  {
   "cell_type": "code",
   "execution_count": 16,
   "id": "431c1341",
   "metadata": {
    "scrolled": true
   },
   "outputs": [
    {
     "data": {
      "text/plain": [
       "tensor([[[True, True, True, True, True, True, True, True, True, True, True,\n",
       "          True, True, True, True, True, True, True, True, True, True]],\n",
       "\n",
       "        [[True, True, True, True, True, True, True, True, True, True, True,\n",
       "          True, True, True, True, True, True, True, True, True, True]]],\n",
       "       device='cuda:0')"
      ]
     },
     "execution_count": 16,
     "metadata": {},
     "output_type": "execute_result"
    }
   ],
   "source": [
    "flex.argmax(-1) == sdpa.argmax(-1)"
   ]
  }
 ],
 "metadata": {
  "kernelspec": {
   "display_name": "python3.10",
   "language": "python",
   "name": "python3.10"
  },
  "language_info": {
   "codemirror_mode": {
    "name": "ipython",
    "version": 3
   },
   "file_extension": ".py",
   "mimetype": "text/x-python",
   "name": "python",
   "nbconvert_exporter": "python",
   "pygments_lexer": "ipython3",
   "version": "3.10.15"
  }
 },
 "nbformat": 4,
 "nbformat_minor": 5
}
