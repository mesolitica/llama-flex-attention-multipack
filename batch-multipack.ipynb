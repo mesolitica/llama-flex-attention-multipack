{
 "cells": [
  {
   "cell_type": "code",
   "execution_count": 1,
   "id": "6fb16300",
   "metadata": {},
   "outputs": [],
   "source": [
    "import os\n",
    "\n",
    "os.environ['CUDA_VISIBLE_DEVICES'] = '2'"
   ]
  },
  {
   "cell_type": "code",
   "execution_count": 2,
   "id": "b86455d4",
   "metadata": {},
   "outputs": [],
   "source": [
    "from attn_gym import visualize_attention_scores\n",
    "from torch.nn.attention.flex_attention import flex_attention, create_block_mask\n",
    "from torch.nn.attention.flex_attention import _mask_mod_signature\n",
    "from torch.nn.attention.flex_attention import (\n",
    "    _score_mod_signature,\n",
    "    _mask_mod_signature,\n",
    "    _vmap_for_bhqkv,\n",
    "    _ModificationType,\n",
    ")\n",
    "from torch.nn.utils.rnn import pad_sequence\n",
    "from typing import List, Union\n",
    "from torch import Tensor\n",
    "import torch\n",
    "import random\n",
    "\n",
    "def causal_mask(b, h, q_idx, kv_idx):\n",
    "    return q_idx >= kv_idx\n",
    "\n",
    "def _offsets_to_doc_ids_tensor(offsets):\n",
    "    device = offsets.device\n",
    "    offsets = offsets[offsets != -1]\n",
    "    counts = offsets[1:] - offsets[:-1]\n",
    "    return torch.repeat_interleave(\n",
    "        torch.arange(len(counts), device=device, dtype=torch.int32), counts\n",
    "    )\n",
    "\n",
    "\n",
    "def length_to_offsets(lengths: List[int], device: Union[str, torch.device]) -> Tensor:\n",
    "    \"\"\"Converts a list of lengths to a list of offsets.\n",
    "\n",
    "    Args:\n",
    "        lengths: A list of lengths.\n",
    "\n",
    "    \"\"\"\n",
    "    offsets = [0]\n",
    "    offsets.extend(lengths)\n",
    "    offsets = torch.tensor(offsets, device=device, dtype=torch.int32)\n",
    "    offsets = torch.cumsum(offsets, dim=-1)\n",
    "    return offsets\n",
    "\n",
    "\n",
    "def generate_doc_mask_mod(mask_mod: _mask_mod_signature, offsets: Tensor) -> _mask_mod_signature:\n",
    "    \"\"\"Generates mask mods that apply to inputs to flex attention in the sequence stacked\n",
    "    format.\n",
    "\n",
    "    Args:\n",
    "        mask_mod: The mask mod to apply to the documents\n",
    "        offsets: This tensor should be of shape(num_documents + 1)\n",
    "            this should contain the cumulative counts of document tokens.\n",
    "            e.g. if you have 3 documents of length 2, 4, 3 then\n",
    "            offsets = [0, 2, 6, 9]\n",
    "\n",
    "    Note:\n",
    "        What is the sequence stacked format? When assembling batches of inputs, we\n",
    "        take multiple sequences and stack them together to form 1 large sequence. We then\n",
    "        use masking to ensure that the attention scores are only applied to tokens within\n",
    "        the same document.\n",
    "    \"\"\"\n",
    "    offsets = pad_sequence(offsets, batch_first = True, padding_value = -1)\n",
    "    document_ids = [_offsets_to_doc_ids_tensor(offsets[i]) for i in range(offsets.shape[0])]\n",
    "    document_ids = torch.stack(document_ids, 0)\n",
    "\n",
    "    def doc_mask_mod(b, h, q_idx, kv_idx):\n",
    "        same_doc = document_ids[b][q_idx] == document_ids[b][kv_idx]\n",
    "        q_logical = q_idx - offsets[b][document_ids[b][q_idx]]\n",
    "        kv_logical = kv_idx - offsets[b][document_ids[b][kv_idx]]\n",
    "        inner_mask = mask_mod(b, h, q_logical, kv_logical)\n",
    "        return same_doc & inner_mask\n",
    "\n",
    "    return doc_mask_mod"
   ]
  },
  {
   "cell_type": "code",
   "execution_count": 3,
   "id": "b9927bb3",
   "metadata": {},
   "outputs": [],
   "source": [
    "# flex_attention = torch.compile(flex_attention, dynamic = False)\n",
    "# create_block_mask = torch.compile(create_block_mask, dynamic = False)"
   ]
  },
  {
   "cell_type": "code",
   "execution_count": 4,
   "id": "3c18fa3a",
   "metadata": {},
   "outputs": [],
   "source": [
    "device = 'cuda'"
   ]
  },
  {
   "cell_type": "code",
   "execution_count": 5,
   "id": "34e748d6",
   "metadata": {},
   "outputs": [],
   "source": [
    "def generate_random_lengths(total_length, num_documents):\n",
    "    # Initialize all lengths to 1 to ensure each document has at least one token\n",
    "    lengths = [1] * num_documents\n",
    "    remaining_length = total_length - num_documents\n",
    "\n",
    "    # Randomly distribute the remaining length\n",
    "    for _ in range(remaining_length):\n",
    "        index = random.randint(0, num_documents - 1)\n",
    "        lengths[index] += 1\n",
    "\n",
    "    return lengths\n",
    "\n",
    "max_seq_len, doc_count = 256, 4\n",
    "B, H, SEQ_LEN, HEAD_DIM = 3, 1, max_seq_len, 8\n",
    "\n",
    "offsets = []\n",
    "for i in range(doc_count, doc_count + B, 1):\n",
    "    lengths = generate_random_lengths(max_seq_len, i)\n",
    "\n",
    "    offsets.append(length_to_offsets(lengths, device))\n",
    "\n",
    "def make_tensor():\n",
    "    return torch.randn(B, H, SEQ_LEN, HEAD_DIM, device=device)\n",
    "\n",
    "q, k, v = make_tensor(), make_tensor(), make_tensor()"
   ]
  },
  {
   "cell_type": "code",
   "execution_count": 6,
   "id": "2027b590",
   "metadata": {},
   "outputs": [],
   "source": [
    "document_causal_mask = generate_doc_mask_mod(causal_mask, offsets)"
   ]
  },
  {
   "cell_type": "code",
   "execution_count": 7,
   "id": "1de239fe",
   "metadata": {},
   "outputs": [
    {
     "data": {
      "text/plain": [
       "[tensor([  0,  52, 116, 176, 256], device='cuda:0'),\n",
       " tensor([  0,  52,  98, 153, 209, 256], device='cuda:0'),\n",
       " tensor([  0,  39,  95, 134, 176, 211, 256], device='cuda:0')]"
      ]
     },
     "execution_count": 7,
     "metadata": {},
     "output_type": "execute_result"
    }
   ],
   "source": [
    "offsets"
   ]
  },
  {
   "cell_type": "code",
   "execution_count": 8,
   "id": "32da8850",
   "metadata": {},
   "outputs": [],
   "source": [
    "block_mask = create_block_mask(document_causal_mask, B, H, SEQ_LEN, SEQ_LEN, device=\"cuda\", _compile=True)"
   ]
  },
  {
   "cell_type": "code",
   "execution_count": 9,
   "id": "b56a2917",
   "metadata": {},
   "outputs": [
    {
     "name": "stdout",
     "output_type": "stream",
     "text": [
      "CPU times: user 232 ms, sys: 32 ms, total: 264 ms\n",
      "Wall time: 486 ms\n"
     ]
    }
   ],
   "source": [
    "%%time\n",
    "\n",
    "flex = flex_attention(q, k, v, block_mask=block_mask)"
   ]
  },
  {
   "cell_type": "code",
   "execution_count": 10,
   "id": "c5ead713",
   "metadata": {},
   "outputs": [
    {
     "data": {
      "text/plain": [
       "torch.Size([3, 1, 256, 8])"
      ]
     },
     "execution_count": 10,
     "metadata": {},
     "output_type": "execute_result"
    }
   ],
   "source": [
    "flex.shape"
   ]
  },
  {
   "cell_type": "code",
   "execution_count": null,
   "id": "b390876a",
   "metadata": {},
   "outputs": [],
   "source": []
  },
  {
   "cell_type": "code",
   "execution_count": null,
   "id": "8c2ccf8a",
   "metadata": {},
   "outputs": [],
   "source": [
    "%%time\n",
    "\n",
    "sdpa = torch.nn.functional.scaled_dot_product_attention(q, k, v, is_causal = True)"
   ]
  },
  {
   "cell_type": "code",
   "execution_count": null,
   "id": "cdac7afb",
   "metadata": {},
   "outputs": [],
   "source": []
  }
 ],
 "metadata": {
  "kernelspec": {
   "display_name": "python3.10",
   "language": "python",
   "name": "python3.10"
  },
  "language_info": {
   "codemirror_mode": {
    "name": "ipython",
    "version": 3
   },
   "file_extension": ".py",
   "mimetype": "text/x-python",
   "name": "python",
   "nbconvert_exporter": "python",
   "pygments_lexer": "ipython3",
   "version": "3.10.14"
  }
 },
 "nbformat": 4,
 "nbformat_minor": 5
}
