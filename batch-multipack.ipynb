{
 "cells": [
  {
   "cell_type": "code",
   "execution_count": 1,
   "id": "279d5faf",
   "metadata": {},
   "outputs": [],
   "source": [
    "import os\n",
    "\n",
    "os.environ['CUDA_VISIBLE_DEVICES'] = '2'"
   ]
  },
  {
   "cell_type": "code",
   "execution_count": 2,
   "id": "bc1c8ef2",
   "metadata": {},
   "outputs": [],
   "source": [
    "from attn_gym import visualize_attention_scores\n",
    "from torch.nn.attention.flex_attention import flex_attention, create_block_mask\n",
    "from torch.nn.attention.flex_attention import _mask_mod_signature\n",
    "from torch.nn.attention.flex_attention import (\n",
    "    _score_mod_signature,\n",
    "    _mask_mod_signature,\n",
    "    _vmap_for_bhqkv,\n",
    "    _ModificationType,\n",
    ")\n",
    "from torch.nn.utils.rnn import pad_sequence\n",
    "from typing import List, Union\n",
    "from torch import Tensor\n",
    "import torch\n",
    "import random\n",
    "\n",
    "def causal_mask(b, h, q_idx, kv_idx):\n",
    "    return q_idx >= kv_idx\n",
    "\n",
    "def _offsets_to_doc_ids_tensor(offsets):\n",
    "    device = offsets.device\n",
    "    offsets = offsets[offsets != -1]\n",
    "    counts = offsets[1:] - offsets[:-1]\n",
    "    return torch.repeat_interleave(\n",
    "        torch.arange(len(counts), device=device, dtype=torch.int32), counts\n",
    "    )\n",
    "\n",
    "\n",
    "def length_to_offsets(lengths: List[int], device: Union[str, torch.device]) -> Tensor:\n",
    "    \"\"\"Converts a list of lengths to a list of offsets.\n",
    "\n",
    "    Args:\n",
    "        lengths: A list of lengths.\n",
    "\n",
    "    \"\"\"\n",
    "    offsets = [0]\n",
    "    offsets.extend(lengths)\n",
    "    offsets = torch.tensor(offsets, device=device, dtype=torch.int32)\n",
    "    offsets = torch.cumsum(offsets, dim=-1)\n",
    "    return offsets\n",
    "\n",
    "\n",
    "def generate_doc_mask_mod(mask_mod: _mask_mod_signature, offsets: Tensor) -> _mask_mod_signature:\n",
    "    \"\"\"Generates mask mods that apply to inputs to flex attention in the sequence stacked\n",
    "    format.\n",
    "\n",
    "    Args:\n",
    "        mask_mod: The mask mod to apply to the documents\n",
    "        offsets: This tensor should be of shape(num_documents + 1)\n",
    "            this should contain the cumulative counts of document tokens.\n",
    "            e.g. if you have 3 documents of length 2, 4, 3 then\n",
    "            offsets = [0, 2, 6, 9]\n",
    "\n",
    "    Note:\n",
    "        What is the sequence stacked format? When assembling batches of inputs, we\n",
    "        take multiple sequences and stack them together to form 1 large sequence. We then\n",
    "        use masking to ensure that the attention scores are only applied to tokens within\n",
    "        the same document.\n",
    "    \"\"\"\n",
    "    offsets = pad_sequence(offsets, batch_first = True, padding_value = -1)\n",
    "    document_ids = [_offsets_to_doc_ids_tensor(offsets[i]) for i in range(offsets.shape[0])]\n",
    "    document_ids = torch.stack(document_ids, 0)\n",
    "\n",
    "    def doc_mask_mod(b, h, q_idx, kv_idx):\n",
    "        same_doc = document_ids[b][q_idx] == document_ids[b][kv_idx]\n",
    "        q_logical = q_idx - offsets[b][document_ids[b][q_idx]]\n",
    "        kv_logical = kv_idx - offsets[b][document_ids[b][kv_idx]]\n",
    "        inner_mask = mask_mod(b, h, q_logical, kv_logical)\n",
    "        return same_doc & inner_mask\n",
    "\n",
    "    return doc_mask_mod"
   ]
  },
  {
   "cell_type": "code",
   "execution_count": 3,
   "id": "97872493",
   "metadata": {},
   "outputs": [],
   "source": [
    "flex_attention = torch.compile(flex_attention, dynamic = False)\n",
    "create_block_mask = torch.compile(create_block_mask, dynamic = False)"
   ]
  },
  {
   "cell_type": "code",
   "execution_count": 4,
   "id": "03ad49da",
   "metadata": {},
   "outputs": [],
   "source": [
    "device = 'cuda'"
   ]
  },
  {
   "cell_type": "code",
   "execution_count": 5,
   "id": "df791593",
   "metadata": {},
   "outputs": [],
   "source": [
    "def generate_random_lengths(total_length, num_documents):\n",
    "    # Initialize all lengths to 1 to ensure each document has at least one token\n",
    "    lengths = [1] * num_documents\n",
    "    remaining_length = total_length - num_documents\n",
    "\n",
    "    # Randomly distribute the remaining length\n",
    "    for _ in range(remaining_length):\n",
    "        index = random.randint(0, num_documents - 1)\n",
    "        lengths[index] += 1\n",
    "\n",
    "    return lengths\n",
    "\n",
    "max_seq_len, doc_count = 21, 4\n",
    "B, H, SEQ_LEN, HEAD_DIM = 2, 1, max_seq_len, 128\n",
    "\n",
    "offsets = []\n",
    "for i in range(doc_count, doc_count + B, 1):\n",
    "    lengths = generate_random_lengths(max_seq_len, i)\n",
    "\n",
    "    offsets.append(length_to_offsets(lengths, device))\n",
    "\n",
    "def make_tensor():\n",
    "    return torch.randn(B, H, SEQ_LEN, HEAD_DIM, device=device)\n",
    "\n",
    "q, k, v = make_tensor(), make_tensor(), make_tensor()"
   ]
  },
  {
   "cell_type": "code",
   "execution_count": 6,
   "id": "0f18aed8",
   "metadata": {},
   "outputs": [],
   "source": [
    "def forward(q, k, v, offsets):\n",
    "    document_causal_mask = generate_doc_mask_mod(causal_mask, offsets)\n",
    "    block_mask = create_block_mask(document_causal_mask, None, None, SEQ_LEN, SEQ_LEN, device=\"cuda\", _compile=True)\n",
    "    flex = flex_attention(q, k, v, block_mask=block_mask)\n",
    "    return flex"
   ]
  },
  {
   "cell_type": "code",
   "execution_count": 10,
   "id": "3a5d2330",
   "metadata": {},
   "outputs": [
    {
     "name": "stdout",
     "output_type": "stream",
     "text": [
      "CPU times: user 2.54 ms, sys: 228 µs, total: 2.77 ms\n",
      "Wall time: 2.08 ms\n"
     ]
    }
   ],
   "source": [
    "%%time\n",
    "\n",
    "flex = forward(q, k, v, offsets)"
   ]
  },
  {
   "cell_type": "code",
   "execution_count": 43,
   "id": "b2679a73",
   "metadata": {},
   "outputs": [
    {
     "data": {
      "text/plain": [
       "[tensor([ 0,  8, 13, 17, 21], device='cuda:0'),\n",
       " tensor([ 0,  4,  7, 10, 15, 18, 21], device='cuda:0')]"
      ]
     },
     "execution_count": 43,
     "metadata": {},
     "output_type": "execute_result"
    }
   ],
   "source": [
    "offsets = []\n",
    "extra = 2\n",
    "for i in range(doc_count, doc_count + B + extra, extra):\n",
    "    lengths = generate_random_lengths(max_seq_len, i)\n",
    "\n",
    "    offsets.append(length_to_offsets(lengths, device))\n",
    "offsets"
   ]
  },
  {
   "cell_type": "code",
   "execution_count": 44,
   "id": "841bb1b0",
   "metadata": {},
   "outputs": [
    {
     "name": "stdout",
     "output_type": "stream",
     "text": [
      "CPU times: user 1.87 ms, sys: 365 µs, total: 2.23 ms\n",
      "Wall time: 1.73 ms\n"
     ]
    }
   ],
   "source": [
    "%%time\n",
    "\n",
    "flex = forward(q, k, v, offsets)"
   ]
  },
  {
   "cell_type": "code",
   "execution_count": 32,
   "id": "ba342348",
   "metadata": {},
   "outputs": [],
   "source": [
    "def block_diagonal_concat_inverted(*masks, dtype=torch.bfloat16):\n",
    "    total_size = sum(mask.size(0) for mask in masks)\n",
    "    combined_mask = torch.zeros(total_size, total_size, dtype=dtype)\n",
    "\n",
    "    current_pos = 0\n",
    "\n",
    "    for mask in masks:\n",
    "        size = mask.size(0)\n",
    "        combined_mask[current_pos:current_pos + size, current_pos:current_pos + size] = mask\n",
    "        current_pos += size\n",
    "\n",
    "    min_value = torch.finfo(dtype).min if dtype.is_floating_point else torch.iinfo(dtype).min\n",
    "    inverted_mask = torch.where(combined_mask == 1, torch.tensor(0, dtype=dtype), min_value)\n",
    "    return inverted_mask.unsqueeze(0)"
   ]
  },
  {
   "cell_type": "code",
   "execution_count": 45,
   "id": "6550a60e",
   "metadata": {},
   "outputs": [
    {
     "name": "stdout",
     "output_type": "stream",
     "text": [
      "CPU times: user 744 ms, sys: 334 µs, total: 744 ms\n",
      "Wall time: 72.8 ms\n"
     ]
    }
   ],
   "source": [
    "%%time\n",
    "\n",
    "masks = []\n",
    "for i in range(len(offsets)):\n",
    "    masks_ = []\n",
    "    masking = torch.diff(offsets[i])\n",
    "    for m in masking:\n",
    "        masks_.append(torch.tril(torch.ones(m, m)))\n",
    "    \n",
    "    masks.append(block_diagonal_concat_inverted(*masks_, dtype = q.dtype))\n",
    "    \n",
    "masks = torch.stack(masks, 0).to('cuda')"
   ]
  },
  {
   "cell_type": "code",
   "execution_count": 46,
   "id": "ef7491b5",
   "metadata": {},
   "outputs": [
    {
     "name": "stdout",
     "output_type": "stream",
     "text": [
      "CPU times: user 472 µs, sys: 84 µs, total: 556 µs\n",
      "Wall time: 292 µs\n"
     ]
    }
   ],
   "source": [
    "%%time\n",
    "\n",
    "sdpa = torch.nn.functional.scaled_dot_product_attention(q, k, v, attn_mask = masks)"
   ]
  },
  {
   "cell_type": "code",
   "execution_count": 47,
   "id": "3f24336f",
   "metadata": {},
   "outputs": [
    {
     "data": {
      "text/plain": [
       "tensor([[[ 71,  71, 115,  71,  49,  14,  71,  50,  55,  53,  55,  94,  97,  99,\n",
       "            0,  20, 113,  75, 120,  86, 118]],\n",
       "\n",
       "        [[ 54,  54,  54,  54,  93,  83,  14,  82,  73,  58, 107,  35,  35,  52,\n",
       "           35,  16,   4,  72,   1,  53,   0]]], device='cuda:0')"
      ]
     },
     "execution_count": 47,
     "metadata": {},
     "output_type": "execute_result"
    }
   ],
   "source": [
    "sdpa.argmax(-1)"
   ]
  },
  {
   "cell_type": "code",
   "execution_count": 48,
   "id": "853bab50",
   "metadata": {},
   "outputs": [
    {
     "data": {
      "text/plain": [
       "tensor([[[ 71,  71, 115,  71,  49,  14,  71,  50,  55,  53,  55,  94,  97,  99,\n",
       "            0,  20, 113,  75, 120,  86, 118]],\n",
       "\n",
       "        [[ 54,  54,  54,  54,  93,  83,  14,  82,  73,  58, 107,  35,  35,  52,\n",
       "           35,  16,   4,  72,   1,  53,   0]]], device='cuda:0')"
      ]
     },
     "execution_count": 48,
     "metadata": {},
     "output_type": "execute_result"
    }
   ],
   "source": [
    "flex.argmax(-1)"
   ]
  },
  {
   "cell_type": "code",
   "execution_count": 49,
   "id": "41ef598d",
   "metadata": {},
   "outputs": [
    {
     "data": {
      "text/plain": [
       "tensor([[[True, True, True, True, True, True, True, True, True, True, True,\n",
       "          True, True, True, True, True, True, True, True, True, True]],\n",
       "\n",
       "        [[True, True, True, True, True, True, True, True, True, True, True,\n",
       "          True, True, True, True, True, True, True, True, True, True]]],\n",
       "       device='cuda:0')"
      ]
     },
     "execution_count": 49,
     "metadata": {},
     "output_type": "execute_result"
    }
   ],
   "source": [
    "sdpa.argmax(-1) == flex.argmax(-1)"
   ]
  }
 ],
 "metadata": {
  "kernelspec": {
   "display_name": "python3.10",
   "language": "python",
   "name": "python3.10"
  },
  "language_info": {
   "codemirror_mode": {
    "name": "ipython",
    "version": 3
   },
   "file_extension": ".py",
   "mimetype": "text/x-python",
   "name": "python",
   "nbconvert_exporter": "python",
   "pygments_lexer": "ipython3",
   "version": "3.10.14"
  }
 },
 "nbformat": 4,
 "nbformat_minor": 5
}
