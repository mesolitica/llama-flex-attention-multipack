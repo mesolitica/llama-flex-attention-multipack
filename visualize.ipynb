{
 "cells": [
  {
   "cell_type": "code",
   "execution_count": 1,
   "id": "1019195f",
   "metadata": {},
   "outputs": [],
   "source": [
    "import os\n",
    "\n",
    "os.environ['CUDA_VISIBLE_DEVICES'] = '2'"
   ]
  },
  {
   "cell_type": "code",
   "execution_count": 2,
   "id": "66a1268e",
   "metadata": {},
   "outputs": [],
   "source": [
    "from attn_gym import visualize_attention_scores\n",
    "from torch.nn.attention.flex_attention import flex_attention, create_block_mask\n",
    "from torch.nn.attention.flex_attention import _mask_mod_signature\n",
    "from torch.nn.attention.flex_attention import (\n",
    "    _score_mod_signature,\n",
    "    _mask_mod_signature,\n",
    "    _vmap_for_bhqkv,\n",
    "    _ModificationType,\n",
    ")\n",
    "from torch.nn.utils.rnn import pad_sequence\n",
    "from typing import List, Union\n",
    "from torch import Tensor\n",
    "import torch\n",
    "import random\n",
    "\n",
    "def causal_mask(b, h, q_idx, kv_idx):\n",
    "    return q_idx >= kv_idx\n",
    "\n",
    "def _offsets_to_doc_ids_tensor(offsets):\n",
    "    device = offsets.device\n",
    "    offsets = offsets[offsets != -1]\n",
    "    counts = offsets[1:] - offsets[:-1]\n",
    "    return torch.repeat_interleave(\n",
    "        torch.arange(len(counts), device=device, dtype=torch.int32), counts\n",
    "    )\n",
    "\n",
    "\n",
    "def length_to_offsets(lengths: List[int], device: Union[str, torch.device]) -> Tensor:\n",
    "    \"\"\"Converts a list of lengths to a list of offsets.\n",
    "\n",
    "    Args:\n",
    "        lengths: A list of lengths.\n",
    "\n",
    "    \"\"\"\n",
    "    offsets = [0]\n",
    "    offsets.extend(lengths)\n",
    "    offsets = torch.tensor(offsets, device=device, dtype=torch.int32)\n",
    "    offsets = torch.cumsum(offsets, dim=-1)\n",
    "    return offsets\n",
    "\n",
    "\n",
    "def generate_doc_mask_mod(mask_mod: _mask_mod_signature, offsets: Tensor) -> _mask_mod_signature:\n",
    "    \"\"\"Generates mask mods that apply to inputs to flex attention in the sequence stacked\n",
    "    format.\n",
    "\n",
    "    Args:\n",
    "        mask_mod: The mask mod to apply to the documents\n",
    "        offsets: This tensor should be of shape(num_documents + 1)\n",
    "            this should contain the cumulative counts of document tokens.\n",
    "            e.g. if you have 3 documents of length 2, 4, 3 then\n",
    "            offsets = [0, 2, 6, 9]\n",
    "\n",
    "    Note:\n",
    "        What is the sequence stacked format? When assembling batches of inputs, we\n",
    "        take multiple sequences and stack them together to form 1 large sequence. We then\n",
    "        use masking to ensure that the attention scores are only applied to tokens within\n",
    "        the same document.\n",
    "    \"\"\"\n",
    "    offsets = pad_sequence(offsets, batch_first = True, padding_value = -1)\n",
    "    document_ids = [_offsets_to_doc_ids_tensor(offsets[i]) for i in range(offsets.shape[0])]\n",
    "    document_ids = torch.stack(document_ids, 0)\n",
    "\n",
    "    def doc_mask_mod(b, h, q_idx, kv_idx):\n",
    "        same_doc = document_ids[b][q_idx] == document_ids[b][kv_idx]\n",
    "        q_logical = q_idx - offsets[b][document_ids[b][q_idx]]\n",
    "        kv_logical = kv_idx - offsets[b][document_ids[b][kv_idx]]\n",
    "        inner_mask = mask_mod(b, h, q_logical, kv_logical)\n",
    "        return same_doc & inner_mask\n",
    "\n",
    "    return doc_mask_mod\n",
    "\n",
    "def generate_single_doc_mask_mod(docs):\n",
    "    def document_causal_mask(b, h, q_idx, kv_idx):\n",
    "        causal_mask = q_idx >= kv_idx\n",
    "        document_mask = docs[q_idx] == docs[kv_idx]\n",
    "        return causal_mask & document_mask\n",
    "    \n",
    "    return document_causal_mask"
   ]
  },
  {
   "cell_type": "code",
   "execution_count": 3,
   "id": "64be416d",
   "metadata": {},
   "outputs": [],
   "source": [
    "device = 'cpu'"
   ]
  },
  {
   "cell_type": "code",
   "execution_count": 4,
   "id": "ca14abaa",
   "metadata": {},
   "outputs": [],
   "source": [
    "def generate_random_lengths(total_length, num_documents):\n",
    "    # Initialize all lengths to 1 to ensure each document has at least one token\n",
    "    lengths = [1] * num_documents\n",
    "    remaining_length = total_length - num_documents\n",
    "\n",
    "    # Randomly distribute the remaining length\n",
    "    for _ in range(remaining_length):\n",
    "        index = random.randint(0, num_documents - 1)\n",
    "        lengths[index] += 1\n",
    "\n",
    "    return lengths\n",
    "\n",
    "max_seq_len, doc_count = 21, 4\n",
    "B, H, SEQ_LEN, HEAD_DIM = 1, 1, max_seq_len, 8\n",
    "\n",
    "offsets = []\n",
    "for i in range(doc_count, doc_count + B, 1):\n",
    "    lengths = generate_random_lengths(max_seq_len, i)\n",
    "\n",
    "    offsets.append(length_to_offsets(lengths, device))\n",
    "\n",
    "def make_tensor():\n",
    "    return torch.ones(B, H, SEQ_LEN, HEAD_DIM, device=device)\n",
    "\n",
    "q, k, v = make_tensor(), make_tensor(), make_tensor()"
   ]
  },
  {
   "cell_type": "code",
   "execution_count": 6,
   "id": "cfa294d5",
   "metadata": {},
   "outputs": [
    {
     "name": "stdout",
     "output_type": "stream",
     "text": [
      "Visualization saved as document_causal_mask.png\n"
     ]
    }
   ],
   "source": [
    "document_causal_mask = generate_doc_mask_mod(causal_mask, offsets[:1])\n",
    "\n",
    "visualize_attention_scores(\n",
    "    q,\n",
    "    k,\n",
    "    mask_mod=document_causal_mask,\n",
    "    device=device,\n",
    "    name=\"document_causal_mask\",\n",
    ")"
   ]
  },
  {
   "cell_type": "code",
   "execution_count": 8,
   "id": "6d1132a4",
   "metadata": {},
   "outputs": [
    {
     "data": {
      "text/html": [
       "<img src=\"document_causal_mask.png\"/>"
      ],
      "text/plain": [
       "<IPython.core.display.Image object>"
      ]
     },
     "execution_count": 8,
     "metadata": {},
     "output_type": "execute_result"
    }
   ],
   "source": [
    "from IPython.display import Image\n",
    "Image(url= \"document_causal_mask.png\")"
   ]
  },
  {
   "cell_type": "code",
   "execution_count": 11,
   "id": "ad923dc3",
   "metadata": {},
   "outputs": [
    {
     "name": "stdout",
     "output_type": "stream",
     "text": [
      "Visualization saved as document_causal_mask.png\n"
     ]
    }
   ],
   "source": [
    "document_causal_mask = generate_single_doc_mask_mod(_offsets_to_doc_ids_tensor(offsets[0]))\n",
    "\n",
    "visualize_attention_scores(\n",
    "    q,\n",
    "    k,\n",
    "    mask_mod=document_causal_mask,\n",
    "    device=device,\n",
    "    name=\"document_causal_mask\",\n",
    ")"
   ]
  },
  {
   "cell_type": "code",
   "execution_count": 12,
   "id": "4c655a4b",
   "metadata": {},
   "outputs": [
    {
     "data": {
      "text/html": [
       "<img src=\"document_causal_mask.png\"/>"
      ],
      "text/plain": [
       "<IPython.core.display.Image object>"
      ]
     },
     "execution_count": 12,
     "metadata": {},
     "output_type": "execute_result"
    }
   ],
   "source": [
    "from IPython.display import Image\n",
    "Image(url= \"document_causal_mask.png\")"
   ]
  },
  {
   "cell_type": "code",
   "execution_count": null,
   "id": "e4566768",
   "metadata": {},
   "outputs": [],
   "source": []
  }
 ],
 "metadata": {
  "kernelspec": {
   "display_name": "python3.10",
   "language": "python",
   "name": "python3.10"
  },
  "language_info": {
   "codemirror_mode": {
    "name": "ipython",
    "version": 3
   },
   "file_extension": ".py",
   "mimetype": "text/x-python",
   "name": "python",
   "nbconvert_exporter": "python",
   "pygments_lexer": "ipython3",
   "version": "3.10.14"
  }
 },
 "nbformat": 4,
 "nbformat_minor": 5
}
