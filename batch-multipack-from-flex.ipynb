{
 "cells": [
  {
   "cell_type": "code",
   "execution_count": 1,
   "id": "ec71c4e4",
   "metadata": {},
   "outputs": [],
   "source": [
    "import os\n",
    "\n",
    "os.environ['CUDA_VISIBLE_DEVICES'] = '2'"
   ]
  },
  {
   "cell_type": "code",
   "execution_count": 2,
   "id": "0f97dd18",
   "metadata": {},
   "outputs": [],
   "source": [
    "from attn_gym import visualize_attention_scores\n",
    "from torch.nn.attention.flex_attention import flex_attention, create_block_mask\n",
    "from torch.nn.attention.flex_attention import _mask_mod_signature\n",
    "from torch.nn.attention.flex_attention import (\n",
    "    _score_mod_signature,\n",
    "    _mask_mod_signature,\n",
    "    _vmap_for_bhqkv,\n",
    "    _ModificationType,\n",
    ")\n",
    "from torch.nn.utils.rnn import pad_sequence\n",
    "from typing import List, Union\n",
    "from torch import Tensor\n",
    "import torch\n",
    "import random\n",
    "\n",
    "def causal_mask(b, h, q_idx, kv_idx):\n",
    "    return q_idx >= kv_idx\n",
    "\n",
    "def _offsets_to_doc_ids_tensor(offsets):\n",
    "    device = offsets.device\n",
    "    offsets = offsets[offsets != -1]\n",
    "    counts = offsets[1:] - offsets[:-1]\n",
    "    return torch.repeat_interleave(\n",
    "        torch.arange(len(counts), device=device, dtype=torch.int32), counts\n",
    "    )\n",
    "\n",
    "\n",
    "def length_to_offsets(lengths: List[int], device: Union[str, torch.device]) -> Tensor:\n",
    "    \"\"\"Converts a list of lengths to a list of offsets.\n",
    "\n",
    "    Args:\n",
    "        lengths: A list of lengths.\n",
    "\n",
    "    \"\"\"\n",
    "    offsets = [0]\n",
    "    offsets.extend(lengths)\n",
    "    offsets = torch.tensor(offsets, device=device, dtype=torch.int32)\n",
    "    offsets = torch.cumsum(offsets, dim=-1)\n",
    "    return offsets\n",
    "\n",
    "def generate_doc_mask_mod(offsets):\n",
    "    \n",
    "    offsets = pad_sequence(offsets, batch_first = True, padding_value = -1)\n",
    "    document_id = [_offsets_to_doc_ids_tensor(offsets[i]) for i in range(offsets.shape[0])]\n",
    "    document_id = torch.stack(document_id, 0)\n",
    "    \n",
    "    def doc_mask_mod(b, h, q_idx, kv_idx):\n",
    "        same_doc = document_id[b, q_idx] == document_id[b, kv_idx]\n",
    "        q_logical = q_idx - offsets[b, document_id[b, q_idx]]\n",
    "        kv_logical = kv_idx - offsets[b, document_id[b, kv_idx]]\n",
    "        inner_mask = causal_mask(b, h, q_logical, kv_logical)\n",
    "        return same_doc & inner_mask\n",
    "\n",
    "    return doc_mask_mod"
   ]
  },
  {
   "cell_type": "code",
   "execution_count": 3,
   "id": "e617ad7d",
   "metadata": {},
   "outputs": [],
   "source": [
    "flex_attention = torch.compile(flex_attention, dynamic = False)\n",
    "create_block_mask = torch.compile(create_block_mask, dynamic = False)"
   ]
  },
  {
   "cell_type": "code",
   "execution_count": 4,
   "id": "6acf957b",
   "metadata": {},
   "outputs": [],
   "source": [
    "device = 'cuda'"
   ]
  },
  {
   "cell_type": "code",
   "execution_count": 5,
   "id": "5ca559d3",
   "metadata": {},
   "outputs": [],
   "source": [
    "def generate_random_lengths(total_length, num_documents):\n",
    "    # Initialize all lengths to 1 to ensure each document has at least one token\n",
    "    lengths = [1] * num_documents\n",
    "    remaining_length = total_length - num_documents\n",
    "\n",
    "    # Randomly distribute the remaining length\n",
    "    for _ in range(remaining_length):\n",
    "        index = random.randint(0, num_documents - 1)\n",
    "        lengths[index] += 1\n",
    "\n",
    "    return lengths\n",
    "\n",
    "max_seq_len, doc_count = 21, 4\n",
    "B, H, SEQ_LEN, HEAD_DIM = 2, 1, max_seq_len, 128\n",
    "\n",
    "offsets = []\n",
    "for i in range(doc_count, doc_count + B, 1):\n",
    "    lengths = generate_random_lengths(max_seq_len, i)\n",
    "\n",
    "    offsets.append(length_to_offsets(lengths, device))\n",
    "\n",
    "def make_tensor():\n",
    "    return torch.randn(B, H, SEQ_LEN, HEAD_DIM, device=device)\n",
    "\n",
    "q, k, v = make_tensor(), make_tensor(), make_tensor()"
   ]
  },
  {
   "cell_type": "code",
   "execution_count": 6,
   "id": "9ca62e76",
   "metadata": {},
   "outputs": [],
   "source": [
    "from functools import lru_cache"
   ]
  },
  {
   "cell_type": "code",
   "execution_count": 7,
   "id": "b8a007be",
   "metadata": {},
   "outputs": [],
   "source": [
    "def forward(q, k, v, offsets):\n",
    "    document_causal_mask = generate_doc_mask_mod(offsets)\n",
    "    block_mask = create_block_mask(document_causal_mask, None, None, SEQ_LEN, SEQ_LEN, device, _compile = True)\n",
    "    flex = flex_attention(q, k, v, block_mask=block_mask)\n",
    "    return flex"
   ]
  },
  {
   "cell_type": "code",
   "execution_count": 8,
   "id": "fa190bb6",
   "metadata": {},
   "outputs": [
    {
     "name": "stdout",
     "output_type": "stream",
     "text": [
      "CPU times: user 2.22 s, sys: 136 ms, total: 2.36 s\n",
      "Wall time: 2.53 s\n"
     ]
    }
   ],
   "source": [
    "%%time\n",
    "\n",
    "flex = forward(q, k, v, offsets)"
   ]
  },
  {
   "cell_type": "code",
   "execution_count": 9,
   "id": "ed36f233",
   "metadata": {},
   "outputs": [
    {
     "data": {
      "text/plain": [
       "[tensor([ 0,  3,  9, 14, 21], device='cuda:0'),\n",
       " tensor([ 0,  1,  2,  4,  7,  9, 11, 12, 14, 17, 20, 21], device='cuda:0')]"
      ]
     },
     "execution_count": 9,
     "metadata": {},
     "output_type": "execute_result"
    }
   ],
   "source": [
    "offsets = []\n",
    "extra = 7\n",
    "for i in range(doc_count, doc_count + B + extra, extra):\n",
    "    lengths = generate_random_lengths(max_seq_len, i)\n",
    "\n",
    "    offsets.append(length_to_offsets(lengths, device))\n",
    "offsets"
   ]
  },
  {
   "cell_type": "code",
   "execution_count": 10,
   "id": "368ca42c",
   "metadata": {},
   "outputs": [
    {
     "name": "stdout",
     "output_type": "stream",
     "text": [
      "CPU times: user 1.25 s, sys: 46.4 ms, total: 1.3 s\n",
      "Wall time: 10.4 s\n"
     ]
    }
   ],
   "source": [
    "%%time\n",
    "\n",
    "flex = forward(q, k, v, offsets)"
   ]
  },
  {
   "cell_type": "code",
   "execution_count": 11,
   "id": "57ef0433",
   "metadata": {},
   "outputs": [
    {
     "data": {
      "text/plain": [
       "[tensor([ 0,  8, 15, 17, 21], device='cuda:0'),\n",
       " tensor([ 0,  1,  3,  5, 10, 13, 16, 17, 21], device='cuda:0')]"
      ]
     },
     "execution_count": 11,
     "metadata": {},
     "output_type": "execute_result"
    }
   ],
   "source": [
    "offsets = []\n",
    "extra = 4\n",
    "for i in range(doc_count, doc_count + B + extra, extra):\n",
    "    lengths = generate_random_lengths(max_seq_len, i)\n",
    "\n",
    "    offsets.append(length_to_offsets(lengths, device))\n",
    "offsets"
   ]
  },
  {
   "cell_type": "code",
   "execution_count": 12,
   "id": "2cdc8de4",
   "metadata": {},
   "outputs": [
    {
     "name": "stdout",
     "output_type": "stream",
     "text": [
      "CPU times: user 1.1 s, sys: 18.4 ms, total: 1.12 s\n",
      "Wall time: 1.2 s\n"
     ]
    }
   ],
   "source": [
    "%%time\n",
    "\n",
    "flex = forward(q, k, v, offsets)"
   ]
  }
 ],
 "metadata": {
  "kernelspec": {
   "display_name": "python3.10",
   "language": "python",
   "name": "python3.10"
  },
  "language_info": {
   "codemirror_mode": {
    "name": "ipython",
    "version": 3
   },
   "file_extension": ".py",
   "mimetype": "text/x-python",
   "name": "python",
   "nbconvert_exporter": "python",
   "pygments_lexer": "ipython3",
   "version": "3.10.14"
  }
 },
 "nbformat": 4,
 "nbformat_minor": 5
}
