{
 "cells": [
  {
   "cell_type": "code",
   "execution_count": 1,
   "id": "f6a37387",
   "metadata": {},
   "outputs": [],
   "source": [
    "import os\n",
    "\n",
    "os.environ['CUDA_VISIBLE_DEVICES'] = '1'\n",
    "os.environ['TF_FORCE_GPU_ALLOW_GROWTH'] = 'true'\n",
    "os.environ[\"HF_HUB_ENABLE_HF_TRANSFER\"] = \"1\""
   ]
  },
  {
   "cell_type": "code",
   "execution_count": 2,
   "id": "54a6b493",
   "metadata": {},
   "outputs": [],
   "source": [
    "from transformers import AutoTokenizer, AutoModelForCausalLM, TextStreamer\n",
    "from peft import LoraConfig, get_peft_model, AutoPeftModelForCausalLM, PeftModel\n",
    "from cut_cross_entropy.transformers import cce_patch\n",
    "import torch\n",
    "import transformers\n",
    "import numpy as np\n",
    "import random"
   ]
  },
  {
   "cell_type": "code",
   "execution_count": 3,
   "id": "f10e8dda",
   "metadata": {},
   "outputs": [],
   "source": [
    "# !pip3.10 uninstall transformers -y\n",
    "# !pip3.10 install -e ."
   ]
  },
  {
   "cell_type": "code",
   "execution_count": 4,
   "id": "a79188b6",
   "metadata": {},
   "outputs": [],
   "source": [
    "tokenizer = AutoTokenizer.from_pretrained('HuggingFaceTB/SmolLM2-360M-Instruct')"
   ]
  },
  {
   "cell_type": "code",
   "execution_count": 5,
   "id": "eda02a81",
   "metadata": {},
   "outputs": [],
   "source": [
    "model = AutoModelForCausalLM.from_pretrained(\n",
    "    'HuggingFaceTB/SmolLM2-360M-Instruct', attn_implementation = 'flex_attention',\n",
    "    torch_dtype = torch.bfloat16\n",
    ").cuda()\n",
    "model = cce_patch(model)"
   ]
  },
  {
   "cell_type": "code",
   "execution_count": 6,
   "id": "ce089323",
   "metadata": {},
   "outputs": [],
   "source": [
    "trainable_parameters = [param for param in model.parameters() if param.requires_grad]\n",
    "trainer = torch.optim.AdamW(trainable_parameters, lr = 2e-4)"
   ]
  },
  {
   "cell_type": "code",
   "execution_count": 7,
   "id": "d6541223",
   "metadata": {},
   "outputs": [],
   "source": [
    "maxlen = 8192\n",
    "batch_size = 2\n",
    "input_ids = torch.ones(batch_size, maxlen, dtype = torch.int32)\n",
    "position_ids = torch.arange(maxlen)[None].repeat((batch_size, 1))"
   ]
  },
  {
   "cell_type": "code",
   "execution_count": 8,
   "id": "3af9eade",
   "metadata": {},
   "outputs": [],
   "source": [
    "def generate_random_lengths(total_length, num_documents):\n",
    "    lengths = [1] * num_documents\n",
    "    remaining_length = total_length - num_documents\n",
    "    for _ in range(remaining_length):\n",
    "        index = random.randint(0, num_documents - 1)\n",
    "        lengths[index] += 1\n",
    "\n",
    "    return lengths\n",
    "\n",
    "def length_to_offsets(lengths, device):\n",
    "    offsets = [0]\n",
    "    offsets.extend(lengths)\n",
    "    offsets = torch.tensor(offsets, device=device, dtype=torch.int32)\n",
    "    offsets = torch.cumsum(offsets, dim=-1)\n",
    "    return offsets"
   ]
  },
  {
   "cell_type": "code",
   "execution_count": 9,
   "id": "0016c39a",
   "metadata": {},
   "outputs": [
    {
     "data": {
      "text/plain": [
       "[tensor([   0,  867, 1698, 2520, 3312, 4155, 4976, 5772, 6596, 7405, 8192],\n",
       "        device='cuda:0'),\n",
       " tensor([   0,  810, 1630, 2419, 3265, 4085, 4911, 5773, 6563, 7389, 8192],\n",
       "        device='cuda:0')]"
      ]
     },
     "execution_count": 9,
     "metadata": {},
     "output_type": "execute_result"
    }
   ],
   "source": [
    "lengths = []\n",
    "for _ in range(batch_size):\n",
    "    lengths.append(length_to_offsets(generate_random_lengths(maxlen, 10), 'cuda'))\n",
    "lengths"
   ]
  },
  {
   "cell_type": "code",
   "execution_count": 10,
   "id": "afaff11c",
   "metadata": {},
   "outputs": [],
   "source": [
    "input_ids = input_ids.cuda()\n",
    "position_ids = position_ids.cuda()"
   ]
  },
  {
   "cell_type": "code",
   "execution_count": 11,
   "id": "dcc63e84",
   "metadata": {},
   "outputs": [],
   "source": [
    "o = model(input_ids = input_ids,\n",
    "      labels = input_ids,\n",
    "      position_ids = position_ids,\n",
    "      attention_mask = lengths).loss"
   ]
  },
  {
   "cell_type": "code",
   "execution_count": 12,
   "id": "a48e44d9",
   "metadata": {},
   "outputs": [],
   "source": [
    "trainer.zero_grad()\n",
    "o.backward()"
   ]
  },
  {
   "cell_type": "code",
   "execution_count": 13,
   "id": "9423fa49",
   "metadata": {},
   "outputs": [],
   "source": [
    "trainer.step()"
   ]
  }
 ],
 "metadata": {
  "kernelspec": {
   "display_name": "python3.10",
   "language": "python",
   "name": "python3.10"
  },
  "language_info": {
   "codemirror_mode": {
    "name": "ipython",
    "version": 3
   },
   "file_extension": ".py",
   "mimetype": "text/x-python",
   "name": "python",
   "nbconvert_exporter": "python",
   "pygments_lexer": "ipython3",
   "version": "3.10.15"
  }
 },
 "nbformat": 4,
 "nbformat_minor": 5
}
